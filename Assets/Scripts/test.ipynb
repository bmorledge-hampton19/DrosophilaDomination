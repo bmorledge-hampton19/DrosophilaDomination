{
 "cells": [
  {
   "cell_type": "code",
   "execution_count": null,
   "source": [
    "var test = 5\r\n",
    "print(test)"
   ],
   "outputs": [
    {
     "output_type": "error",
     "ename": "Error",
     "evalue": "Error executing cell: Error: Unable to find appropriate .NET SDK.",
     "traceback": [
      "Error executing cell: Error: Unable to find appropriate .NET SDK."
     ]
    }
   ],
   "metadata": {
    "dotnet_interactive": {
     "language": "csharp"
    }
   }
  }
 ],
 "metadata": {
  "orig_nbformat": 4,
  "language_info": {
   "file_extension": ".cs",
   "mimetype": "text/x-csharp",
   "name": "C#",
   "pygments_lexer": "csharp",
   "version": "9.0"
  },
  "kernelspec": {
   "display_name": ".NET (C#)",
   "language": "C#",
   "name": ".net-csharp"
  }
 },
 "nbformat": 4,
 "nbformat_minor": 2
}